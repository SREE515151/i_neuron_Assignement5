{
  "metadata": {
    "language_info": {
      "name": ""
    },
    "kernelspec": {
      "name": "python",
      "display_name": "Python (Pyodide)",
      "language": "python"
    }
  },
  "nbformat_minor": 4,
  "nbformat": 4,
  "cells": [
    {
      "cell_type": "markdown",
      "source": "1. What does an empty dictionary's code look like?",
      "metadata": {}
    },
    {
      "cell_type": "markdown",
      "source": "A)An empty dictionary is a collection of key-value pairs, where the keys are unique and the values can be of any type. \n\nThe syntax for creating an empty dictionary is:\nmy_dictionary = {}",
      "metadata": {}
    },
    {
      "cell_type": "code",
      "source": "",
      "metadata": {},
      "execution_count": null,
      "outputs": []
    },
    {
      "cell_type": "markdown",
      "source": "2. What is the value of a dictionary value with the key 'foo' and the value 42?",
      "metadata": {}
    },
    {
      "cell_type": "markdown",
      "source": "A)The value of a dictionary value with the key 'foo' and the value 42 is 42. This is because the value of a dictionary value is the value that is associated with the key. In this case, the key is 'foo' and the value is 42.",
      "metadata": {}
    },
    {
      "cell_type": "code",
      "source": "",
      "metadata": {},
      "execution_count": null,
      "outputs": []
    },
    {
      "cell_type": "markdown",
      "source": "3. What is the most significant distinction between a dictionary and a list?",
      "metadata": {}
    },
    {
      "cell_type": "markdown",
      "source": "A) The most significant distinction between a dictionary and a list is that, a dictionary is a collection of key-value pairs, while a list is a collection of items. \nIn a dictionary, the keys are unique and the values can be of any type. In a list, the items can be of any type and they do not have to be unique.",
      "metadata": {}
    },
    {
      "cell_type": "code",
      "source": "",
      "metadata": {},
      "execution_count": null,
      "outputs": []
    },
    {
      "cell_type": "markdown",
      "source": "4. What happens if you try to access spam['foo'] if spam is {'bar': 100}?",
      "metadata": {}
    },
    {
      "cell_type": "markdown",
      "source": "A)If you try to access `spam['foo']` when spam is `{'bar': 100}`, you will get a `KeyError`. This is because the key 'foo' does not exist in the dictionary `spam`.",
      "metadata": {}
    },
    {
      "cell_type": "code",
      "source": "",
      "metadata": {},
      "execution_count": null,
      "outputs": []
    },
    {
      "cell_type": "markdown",
      "source": "5. If a dictionary is stored in spam, what is the difference between the expressions 'cat' in spam and 'cat' in spam.keys()?",
      "metadata": {}
    },
    {
      "cell_type": "markdown",
      "source": "A) The difference between the expressions `'cat' in spam` and `'cat' in spam.keys()` is that the first expression checks,\nif the value `'cat'` is in the dictionary `spam`, while the second expression checks if the key `'cat'` is in the dictionary `spam`.\n\nIn other words, the first expression checks if there is a value in the dictionary `spam` that is equal to `'cat'`, \nwhile the second expression checks if there is a key in the dictionary `spam` that is equal to `'cat'`.",
      "metadata": {}
    },
    {
      "cell_type": "code",
      "source": "",
      "metadata": {},
      "execution_count": null,
      "outputs": []
    },
    {
      "cell_type": "markdown",
      "source": "6. If a dictionary is stored in spam, what is the difference between the expressions 'cat' in spam and 'cat' in spam.values()?",
      "metadata": {}
    },
    {
      "cell_type": "markdown",
      "source": "A) The difference between the expressions `'cat' in spam` and `'cat' in spam.values()` is that the first expression checks\nif the value `'cat'` is in the dictionary `spam`, the second expression checks if the value `'cat'` is in the list of values in the dictionary `spam`.\nIn other words, the first expression checks if there is a value in the dictionary `spam` that is equal to `'cat'`,\nwhile the second expression checks if there is a value in the list of values in the dictionary `spam` that is equal to `'cat'`.",
      "metadata": {}
    },
    {
      "cell_type": "code",
      "source": "",
      "metadata": {},
      "execution_count": null,
      "outputs": []
    },
    {
      "cell_type": "markdown",
      "source": "7. What is a shortcut for the following code?\n   if 'color' not in spam:\n     spam['color'] = 'black'",
      "metadata": {}
    },
    {
      "cell_type": "markdown",
      "source": "A) The shortcut for the following code is:\nspam.setdefault('color', 'black')\n\nIt will check, if the key `'color'` exists in the dictionary `spam`. If it does not exist, then the key is added to the dictionary with the value `'black'`. If the key already exists, then the value of the key is not changed.",
      "metadata": {}
    },
    {
      "cell_type": "code",
      "source": "",
      "metadata": {},
      "execution_count": null,
      "outputs": []
    },
    {
      "cell_type": "markdown",
      "source": "8. How do you \"pretty print\" dictionary values using which module and function?",
      "metadata": {}
    },
    {
      "cell_type": "markdown",
      "source": "A) To \"pretty print\" dictionary values, the `pprint` module and the `pprint()` function can be used. The `pprint()` function takes a dictionary as its argument and prints it in a more readable format. \n\nFor example, the following code prints a dictionary in a pretty format:\n\nimport pprint\ndictionary = {'key1': 'value1', 'key2': 'value2'}\npprint(dictionary)\n\nThe `pprint()` function can also be used to print other types of data structures, such as lists and tuples.",
      "metadata": {}
    },
    {
      "cell_type": "code",
      "source": "",
      "metadata": {},
      "execution_count": null,
      "outputs": []
    },
    {
      "cell_type": "code",
      "source": "",
      "metadata": {},
      "execution_count": null,
      "outputs": []
    },
    {
      "cell_type": "code",
      "source": "",
      "metadata": {},
      "execution_count": null,
      "outputs": []
    }
  ]
}